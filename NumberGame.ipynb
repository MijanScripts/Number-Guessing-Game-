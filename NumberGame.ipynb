{
 "cells": [
  {
   "cell_type": "code",
   "execution_count": 1,
   "metadata": {},
   "outputs": [],
   "source": [
    "# Random number guess\n",
    "from random import randint \n",
    "numbers = randint(0,25)\n",
    "trial = 5\n",
    "while trial < 0:\n",
    "    guesses = int(input('take a guess'))\n",
    "    if guesses == numbers:\n",
    "        print('correct')\n",
    "        break\n",
    "    elif guesses > numbers:\n",
    "        print('take a lower guess')\n",
    "        trial-=1\n",
    "    elif guesses < numbers:\n",
    "        print('take a higher guess')\n",
    "        trial-=1\n"
   ]
  },
  {
   "cell_type": "code",
   "execution_count": null,
   "metadata": {
    "collapsed": true,
    "jupyter": {
     "outputs_hidden": true
    }
   },
   "outputs": [],
   "source": []
  },
  {
   "cell_type": "code",
   "execution_count": null,
   "metadata": {
    "collapsed": true,
    "jupyter": {
     "outputs_hidden": true
    }
   },
   "outputs": [],
   "source": []
  }
 ],
 "metadata": {
  "kernelspec": {
   "display_name": "Python 3",
   "language": "python",
   "name": "python3"
  },
  "language_info": {
   "codemirror_mode": {
    "name": "ipython",
    "version": 3
   },
   "file_extension": ".py",
   "mimetype": "text/x-python",
   "name": "python",
   "nbconvert_exporter": "python",
   "pygments_lexer": "ipython3",
   "version": "3.8.8"
  }
 },
 "nbformat": 4,
 "nbformat_minor": 4
}
